{
 "cells": [
  {
   "cell_type": "markdown",
   "id": "005b6f25-9161-4229-a290-0c6cc7659038",
   "metadata": {},
   "source": [
    "## Importing Libraries \n",
    "opencv and numpy are needed here"
   ]
  },
  {
   "cell_type": "code",
   "execution_count": 2,
   "id": "2f5bfa49-04dc-4200-ad20-45d74f846de9",
   "metadata": {},
   "outputs": [],
   "source": [
    "import cv2\n",
    "import numpy as np\n",
    "import os "
   ]
  },
  {
   "cell_type": "markdown",
   "id": "535055f0-dbab-4e21-a75d-60d7d2b8a985",
   "metadata": {},
   "source": [
    "# Download an Image\n",
    "Lets download a random image of Khal Drogo from Game of Thrones. wget automatically downloads the image from given url"
   ]
  },
  {
   "cell_type": "code",
   "execution_count": 2,
   "id": "a391d563-7b06-47fa-a0c5-45ae95398690",
   "metadata": {},
   "outputs": [],
   "source": [
    "if not os.path.isdir('resources'):\n",
    "    os.mkdir('resources')"
   ]
  },
  {
   "cell_type": "code",
   "execution_count": 3,
   "id": "8e5c712f-aeb6-4afc-bf66-0909127b6022",
   "metadata": {},
   "outputs": [
    {
     "name": "stdout",
     "output_type": "stream",
     "text": [
      "--2022-04-10 21:43:23--  https://resize.indiatvnews.com/en/resize/newbucket/715_-/2020/11/khaldrogo-1605101028.jpg\n",
      "Resolving resize.indiatvnews.com... 108.158.61.39, 108.158.61.91, 108.158.61.99, ...\n",
      "Connecting to resize.indiatvnews.com|108.158.61.39|:443... connected.\n",
      "HTTP request sent, awaiting response... 200 OK\n",
      "Length: 30473 (30K) [image/jpeg]\n",
      "Saving to: 'resources/khaldrogo-1605101028.jpg.2'\n",
      "\n",
      "khaldrogo-160510102 100%[===================>]  29.76K  --.-KB/s    in 0.01s   \n",
      "\n",
      "2022-04-10 21:43:27 (2.78 MB/s) - 'resources/khaldrogo-1605101028.jpg.2' saved [30473/30473]\n",
      "\n"
     ]
    }
   ],
   "source": [
    "# %%capture\n",
    "!wget \"https://resize.indiatvnews.com/en/resize/newbucket/715_-/2020/11/khaldrogo-1605101028.jpg\" -P resources"
   ]
  },
  {
   "cell_type": "markdown",
   "id": "8b1e6b65-97b2-4e1a-bc48-85882954f384",
   "metadata": {},
   "source": [
    "## Load and Display Image\n",
    "Load, resize and display image using opencv "
   ]
  },
  {
   "cell_type": "code",
   "execution_count": 4,
   "id": "f60dbc01-c904-4ccc-b33c-48bc513de463",
   "metadata": {},
   "outputs": [
    {
     "data": {
      "text/plain": [
       "-1"
      ]
     },
     "execution_count": 4,
     "metadata": {},
     "output_type": "execute_result"
    }
   ],
   "source": [
    "image_filename = os.path.join(\"resources\",\"khaldrogo-1605101028.jpg\")\n",
    "\n",
    "img = cv2.imread(image_filename)\n",
    "cv2.imshow(\"Khal Drogo\",img)\n",
    "\n",
    "cv2.waitKey(0)\n",
    "cv2.destroyAllWindows()\n",
    "cv2.waitKey(1) #just in case wait key above  doesn't "
   ]
  },
  {
   "cell_type": "code",
   "execution_count": 5,
   "id": "05b0f161-f3ea-455a-9f15-593a3e47d6d9",
   "metadata": {},
   "outputs": [
    {
     "data": {
      "text/plain": [
       "-1"
      ]
     },
     "execution_count": 5,
     "metadata": {},
     "output_type": "execute_result"
    }
   ],
   "source": [
    "img = cv2.imread(image_filename)\n",
    "img_resized = cv2.resize(img, (960, 540))\n",
    "\n",
    "cv2.imshow(\"Jason\",img_resized)\n",
    "\n",
    "cv2.waitKey(0)\n",
    "cv2.destroyAllWindows()\n",
    "cv2.waitKey(1)"
   ]
  },
  {
   "cell_type": "markdown",
   "id": "9b863993-590a-47fd-a8c4-b9e1ccc78213",
   "metadata": {},
   "source": [
    "## Image DataStructure\n",
    "Looking at the shape of image with numpy. "
   ]
  },
  {
   "cell_type": "code",
   "execution_count": 6,
   "id": "fa1d3640-e965-46f1-8df2-eb8ad4fd8bec",
   "metadata": {},
   "outputs": [
    {
     "data": {
      "text/plain": [
       "(402, 715, 3)"
      ]
     },
     "execution_count": 6,
     "metadata": {},
     "output_type": "execute_result"
    }
   ],
   "source": [
    "np.shape(img)"
   ]
  },
  {
   "cell_type": "markdown",
   "id": "6d589204-f998-4fdc-bfe4-8f2b7567c2d1",
   "metadata": {},
   "source": [
    "Gives height width and no of channels i.e RGB(3) in this case."
   ]
  },
  {
   "cell_type": "markdown",
   "id": "30ce8b1b-fe27-4ede-8f9a-6f7fdd6e6757",
   "metadata": {},
   "source": [
    "## Converting to Grayscale"
   ]
  },
  {
   "cell_type": "code",
   "execution_count": 7,
   "id": "a9034d3f-53cc-4a03-a922-81ce8be1fed4",
   "metadata": {},
   "outputs": [
    {
     "data": {
      "text/plain": [
       "-1"
      ]
     },
     "execution_count": 7,
     "metadata": {},
     "output_type": "execute_result"
    }
   ],
   "source": [
    "gray = cv2.cvtColor(img, cv2.COLOR_BGR2GRAY)\n",
    "cv2.imshow(\"Grayscaled Drogo\",gray)\n",
    "\n",
    "cv2.waitKey(0)\n",
    "cv2.destroyAllWindows()\n",
    "cv2.waitKey(1)"
   ]
  },
  {
   "cell_type": "markdown",
   "id": "bd756500-fdfe-45f2-8b6f-c15fe902e6a9",
   "metadata": {},
   "source": [
    "## Haarcascade Face Detection"
   ]
  },
  {
   "cell_type": "markdown",
   "id": "49fa53d1-bb2b-47b8-8372-21c98c12d6e9",
   "metadata": {},
   "source": [
    "Downloading pre-trained cascades to local"
   ]
  },
  {
   "cell_type": "code",
   "execution_count": null,
   "id": "426728de-8c8c-457a-9940-f536a5ff6511",
   "metadata": {},
   "outputs": [],
   "source": []
  },
  {
   "cell_type": "code",
   "execution_count": 27,
   "id": "ee397535-202f-4282-a875-2852bf567c0b",
   "metadata": {},
   "outputs": [],
   "source": [
    "# %%capture\n",
    "# !wget \"https://github.com/opencv/opencv/blob/master/data/haarcascades/haarcascade_frontalface_default.xml\" -P resources\n",
    "# !wget \"https://github.com/opencv/opencv/blob/master/data/haarcascades/haarcascade_eye.xml\" -P resources\n",
    "# !wget \"https://github.com/opencv/opencv/blob/master/data/haarcascades/haarcascade_smile.xml\" -P resources"
   ]
  },
  {
   "cell_type": "code",
   "execution_count": 33,
   "id": "5b505af2-1679-4e8c-880b-6c1401d6eebb",
   "metadata": {},
   "outputs": [
    {
     "name": "stdout",
     "output_type": "stream",
     "text": [
      "Face cascade load success ->  True\n",
      "Eye cascade load success -> True\n"
     ]
    }
   ],
   "source": [
    "face_cascade = cv2.CascadeClassifier(os.path.join(\"resources\",\"haarcascade_frontalface_default.xml\"))\n",
    "eye_cascade = cv2.CascadeClassifier(os.path.join(\"resources\",\"haarcascade_eye.xml\"))\n",
    "\n",
    "print(\"Face cascade load success -> \",not face_cascade.empty())\n",
    "print(\"Eye cascade load success ->\", not eye_cascade.empty())"
   ]
  },
  {
   "cell_type": "markdown",
   "id": "20dd1284-a74e-4a2f-b268-9082e7cbec91",
   "metadata": {},
   "source": [
    "### For image"
   ]
  },
  {
   "cell_type": "markdown",
   "id": "88ef37a1-8fce-4d04-ad42-c56e0be8218a",
   "metadata": {},
   "source": []
  },
  {
   "cell_type": "code",
   "execution_count": 34,
   "id": "f678026d-902c-40c6-8198-5468e914a990",
   "metadata": {},
   "outputs": [
    {
     "data": {
      "text/plain": [
       "-1"
      ]
     },
     "execution_count": 34,
     "metadata": {},
     "output_type": "execute_result"
    }
   ],
   "source": [
    "img = cv2.imread(image_filename)\n",
    "faces = face_cascade.detectMultiScale(gray,1.3,5)\n",
    "\n",
    "if faces is ():\n",
    "  print(\"No faces detected\")\n",
    "\n",
    "\n",
    "for (x,y,w,h) in faces:\n",
    "    cv2.rectangle(img, (x,y), (x+w, y+h), (127,0,255), 2 )\n",
    "    cv2.imshow(\"Face\",img)\n",
    "    cv2.waitKey(0)\n",
    "cv2.destroyAllWindows()\n",
    "cv2.waitKey(1)"
   ]
  },
  {
   "cell_type": "markdown",
   "id": "d24bbb13-70bb-42a7-8bda-fefbff75ca7a",
   "metadata": {},
   "source": [
    "### For Streaming Video"
   ]
  },
  {
   "cell_type": "code",
   "execution_count": 35,
   "id": "5cae1ee9-6f3f-4824-9ff1-abfaccb8105b",
   "metadata": {},
   "outputs": [
    {
     "data": {
      "text/plain": [
       "-1"
      ]
     },
     "execution_count": 35,
     "metadata": {},
     "output_type": "execute_result"
    }
   ],
   "source": [
    "\n",
    "cap = cv2.VideoCapture(0)\n",
    "\n",
    "while 1:\n",
    "    ret, img = cap.read()\n",
    "    gray = cv2.cvtColor(img, cv2.COLOR_BGR2GRAY)\n",
    "    faces = face_cascade.detectMultiScale(gray, 1.3, 5)\n",
    "\n",
    "    for (x,y,w,h) in faces:\n",
    "        cv2.rectangle(img,(x,y),(x+w,y+h),(255,0,0),2)\n",
    "        roi_gray = gray[y:y+h, x:x+w]\n",
    "        roi_color = img[y:y+h, x:x+w]\n",
    "\n",
    "    cv2.imshow('img',img)\n",
    "    k = cv2.waitKey(30) & 0xff\n",
    "    if k == 27:\n",
    "        break\n",
    "\n",
    "cap.release()\n",
    "cv2.destroyAllWindows()\n",
    "cv2.waitKey(1)"
   ]
  },
  {
   "cell_type": "markdown",
   "id": "983398bb-d652-4c84-8dcd-50ccb81d3381",
   "metadata": {},
   "source": [
    "### Face and Eye Detection"
   ]
  },
  {
   "cell_type": "code",
   "execution_count": 36,
   "id": "b52f7651-6855-43ba-bf94-0e47707e6f48",
   "metadata": {},
   "outputs": [
    {
     "data": {
      "text/plain": [
       "-1"
      ]
     },
     "execution_count": 36,
     "metadata": {},
     "output_type": "execute_result"
    }
   ],
   "source": [
    "\n",
    "cap = cv2.VideoCapture(0)\n",
    "\n",
    "while 1:\n",
    "    ret, img = cap.read()\n",
    "    gray = cv2.cvtColor(img, cv2.COLOR_BGR2GRAY)\n",
    "    faces = face_cascade.detectMultiScale(gray, 1.3, 5)\n",
    "\n",
    "    for (x,y,w,h) in faces:\n",
    "        cv2.rectangle(img,(x,y),(x+w,y+h),(255,0,0),2)\n",
    "        roi_gray = gray[y:y+h, x:x+w]\n",
    "        roi_color = img[y:y+h, x:x+w]\n",
    "        \n",
    "        eyes = eye_cascade.detectMultiScale(roi_gray,  1.3, 5)\n",
    "        \n",
    "        eyes = eye_cascade.detectMultiScale(roi_gray)\n",
    "        for (ex,ey,ew,eh) in eyes:\n",
    "            cv2.rectangle(roi_color,(ex,ey),(ex+ew,ey+eh),(0,255,0),2)\n",
    "\n",
    "    cv2.imshow('img',img)\n",
    "    k = cv2.waitKey(30) & 0xff\n",
    "    if k == 27:\n",
    "        break\n",
    "\n",
    "cap.release()\n",
    "cv2.destroyAllWindows()\n",
    "cv2.waitKey(1)"
   ]
  },
  {
   "cell_type": "markdown",
   "id": "3b08c495-4c43-4c32-943b-3f6e1397bb42",
   "metadata": {},
   "source": [
    "## Haarcascade Car Detection"
   ]
  },
  {
   "cell_type": "code",
   "execution_count": 3,
   "id": "9f300cf1-04c7-4622-8058-bd531bde8643",
   "metadata": {},
   "outputs": [
    {
     "name": "stderr",
     "output_type": "stream",
     "text": [
      "UsageError: Line magic function `%%capture` not found.\n"
     ]
    }
   ],
   "source": [
    "import time\n",
    "# !wget \"https://raw.githubusercontent.com/ratansingh98/100_Days_of_ML_Code_Continued/master/Days/mastering%20opencv%202/3.%20Car%20and%20Pedestrian%20Detection/cars.xml\" -P resources"
   ]
  },
  {
   "cell_type": "code",
   "execution_count": 4,
   "id": "cba398a0-8585-4e17-b4e3-5601c5793d45",
   "metadata": {},
   "outputs": [
    {
     "name": "stdout",
     "output_type": "stream",
     "text": [
      "Car cascade load success ->  True\n"
     ]
    }
   ],
   "source": [
    "car_cascade = cv2.CascadeClassifier(os.path.join(\"resources\", \"cars.xml\"))\n",
    "print(\"Car cascade load success -> \",not car_cascade.empty())\n"
   ]
  },
  {
   "cell_type": "code",
   "execution_count": 5,
   "id": "fcde9e74-1329-46d5-a0a2-5c458a068143",
   "metadata": {},
   "outputs": [
    {
     "ename": "error",
     "evalue": "OpenCV(3.4.2) /opt/concourse/worker/volumes/live/9523d527-1b9e-48e0-7ed0-a36adde286f0/volume/opencv-suite_1535558719691/work/modules/imgproc/src/color.hpp:253: error: (-215:Assertion failed) VScn::contains(scn) && VDcn::contains(dcn) && VDepth::contains(depth) in function 'CvtHelper'\n",
     "output_type": "error",
     "traceback": [
      "\u001b[0;31m---------------------------------------------------------------------------\u001b[0m",
      "\u001b[0;31merror\u001b[0m                                     Traceback (most recent call last)",
      "\u001b[0;32m/var/folders/sm/nk9rt9dn17j6zsk2rg9x2s5m0000gn/T/ipykernel_9442/3329002943.py\u001b[0m in \u001b[0;36m<module>\u001b[0;34m\u001b[0m\n\u001b[1;32m      8\u001b[0m     \u001b[0;31m# Read first frame\u001b[0m\u001b[0;34m\u001b[0m\u001b[0;34m\u001b[0m\u001b[0;34m\u001b[0m\u001b[0m\n\u001b[1;32m      9\u001b[0m     \u001b[0mret\u001b[0m\u001b[0;34m,\u001b[0m \u001b[0mframe\u001b[0m \u001b[0;34m=\u001b[0m \u001b[0mcap\u001b[0m\u001b[0;34m.\u001b[0m\u001b[0mread\u001b[0m\u001b[0;34m(\u001b[0m\u001b[0;34m)\u001b[0m\u001b[0;34m\u001b[0m\u001b[0;34m\u001b[0m\u001b[0m\n\u001b[0;32m---> 10\u001b[0;31m     \u001b[0mgray\u001b[0m \u001b[0;34m=\u001b[0m \u001b[0mcv2\u001b[0m\u001b[0;34m.\u001b[0m\u001b[0mcvtColor\u001b[0m\u001b[0;34m(\u001b[0m\u001b[0mframe\u001b[0m\u001b[0;34m,\u001b[0m \u001b[0mcv2\u001b[0m\u001b[0;34m.\u001b[0m\u001b[0mCOLOR_BGR2GRAY\u001b[0m\u001b[0;34m)\u001b[0m\u001b[0;34m\u001b[0m\u001b[0;34m\u001b[0m\u001b[0m\n\u001b[0m\u001b[1;32m     11\u001b[0m \u001b[0;34m\u001b[0m\u001b[0m\n\u001b[1;32m     12\u001b[0m     \u001b[0;31m# Pass frame to our car classifier\u001b[0m\u001b[0;34m\u001b[0m\u001b[0;34m\u001b[0m\u001b[0;34m\u001b[0m\u001b[0m\n",
      "\u001b[0;31merror\u001b[0m: OpenCV(3.4.2) /opt/concourse/worker/volumes/live/9523d527-1b9e-48e0-7ed0-a36adde286f0/volume/opencv-suite_1535558719691/work/modules/imgproc/src/color.hpp:253: error: (-215:Assertion failed) VScn::contains(scn) && VDcn::contains(dcn) && VDepth::contains(depth) in function 'CvtHelper'\n"
     ]
    }
   ],
   "source": [
    "cap = cv2.VideoCapture(os.path.join(\"resources\",\"cars.avi\"))\n",
    "\n",
    "\n",
    "# Loop once video is successfully loaded\n",
    "while cap.isOpened():\n",
    "    \n",
    "    time.sleep(.05)\n",
    "    # Read first frame\n",
    "    ret, frame = cap.read()\n",
    "    gray = cv2.cvtColor(frame, cv2.COLOR_BGR2GRAY)\n",
    "   \n",
    "    # Pass frame to our car classifier\n",
    "    cars = car_cascade.detectMultiScale(gray, 1.4, 2)\n",
    "    \n",
    "    # Extract bounding boxes for any bodies identified\n",
    "    for (x,y,w,h) in cars:\n",
    "        cv2.rectangle(frame, (x, y), (x+w, y+h), (0, 255, 255), 2)\n",
    "        cv2.imshow('Cars', frame)\n",
    "\n",
    "    if cv2.waitKey(1) == 13: #13 is the Enter Key\n",
    "        break\n",
    "\n",
    "cap.release()\n",
    "cv2.destroyAllWindows()\n",
    "cv2.waitKey(1)"
   ]
  },
  {
   "cell_type": "markdown",
   "id": "4b9e8d38-42dc-4788-a6ae-03aa02eee8e1",
   "metadata": {},
   "source": [
    "## Conclusion"
   ]
  },
  {
   "cell_type": "markdown",
   "id": "621e3900-c9bd-4cf1-8eaf-87a43f14a488",
   "metadata": {},
   "source": [
    "Hence, We performed basic tasks on OpenCV and some use cases of pre-trained Haarcascades."
   ]
  }
 ],
 "metadata": {
  "kernelspec": {
   "display_name": "Python 3.7.11",
   "language": "python",
   "name": "python3711jvsc74a57bd01dbea94acfe80817a15d809889302117927b41889dbdd8605369ffcef53dcb83"
  },
  "language_info": {
   "codemirror_mode": {
    "name": "ipython",
    "version": 3
   },
   "file_extension": ".py",
   "mimetype": "text/x-python",
   "name": "python",
   "nbconvert_exporter": "python",
   "pygments_lexer": "ipython3",
   "version": "3.7.11"
  }
 },
 "nbformat": 4,
 "nbformat_minor": 5
}
